{
 "cells": [
  {
   "cell_type": "code",
   "execution_count": 1,
   "id": "af50dc55",
   "metadata": {},
   "outputs": [],
   "source": [
    "import matplotlib.pyplot as plt\n",
    "import pandas as pd\n",
    "import io\n",
    "import seaborn as sns\n",
    "from os import listdir\n",
    "from os.path import isfile, join\n",
    "%matplotlib inline"
   ]
  },
  {
   "cell_type": "code",
   "execution_count": 3,
   "id": "c10815da",
   "metadata": {},
   "outputs": [],
   "source": [
    "def readResults(path):\n",
    "    onlyfiles = [join(path,f) for f in listdir(path) if isfile(join(path, f))]\n",
    "    info_pivots = {}\n",
    "    query_data = []\n",
    "    label = []\n",
    "    \n",
    "    for path in onlyfiles:\n",
    "        try:\n",
    "            file = open(path)\n",
    "            lines = file.readlines()\n",
    "            data = [line.rstrip().split(\",\") for line in lines]\n",
    "            key = data[0][2]\n",
    "            data[0].pop(2)\n",
    "            value = data[0]\n",
    "            info_pivots[key] = value\n",
    "            data.pop(0)\n",
    "\n",
    "            data[0] = [\"Pivot\"] + data[0]\n",
    "\n",
    "            for i in range(1, len(data)):\n",
    "                data[i] = [key] + data[i]\n",
    "\n",
    "            label = data[0]\n",
    "            data.pop(0)\n",
    "\n",
    "            query_data.extend(data)\n",
    "\n",
    "        finally:\n",
    "            file.close()\n",
    "    \n",
    "    query_data.insert(0, label)\n",
    "    data = [\" \".join(line) for line in query_data]\n",
    "    df = pd.read_csv(io.StringIO('\\n'.join(data)), delim_whitespace=True)\n",
    "    df.columns = [\"Pivot\", \"K\", \"Time\", \"Distance Count\", \"Disk Access\"]\n",
    "    group_df = df.groupby([\"Pivot\", \"K\"])[[\"Distance Count\", \"Disk Access\"]].mean().reset_index()\n",
    "    return group_df\n",
    "    \n",
    "    "
   ]
  },
  {
   "cell_type": "code",
   "execution_count": 5,
   "id": "6331ec10",
   "metadata": {},
   "outputs": [],
   "source": [
    "\n",
    "onlyfiles = [join(path,f) for f in listdir(path) if isfile(join(path, f))]"
   ]
  },
  {
   "cell_type": "code",
   "execution_count": 6,
   "id": "dfeeee8c",
   "metadata": {},
   "outputs": [],
   "source": [
    "#pivot_method : [index, distanceFunction, numberOfPivots, numberOfQueries, seed]\n",
    "info_pivots = {}"
   ]
  },
  {
   "cell_type": "code",
   "execution_count": 7,
   "id": "6c1187ff",
   "metadata": {},
   "outputs": [],
   "source": [
    "query_data = []\n",
    "label = []"
   ]
  },
  {
   "cell_type": "code",
   "execution_count": 8,
   "id": "75773162",
   "metadata": {},
   "outputs": [],
   "source": [
    "for path in onlyfiles:\n",
    "    try:\n",
    "        file = open(path)\n",
    "        lines = file.readlines()\n",
    "        data = [line.rstrip().split(\",\") for line in lines]\n",
    "        key = data[0][2]\n",
    "        data[0].pop(2)\n",
    "        value = data[0]\n",
    "        info_pivots[key] = value\n",
    "        data.pop(0)\n",
    "        \n",
    "        data[0] = [\"Pivot\"] + data[0]\n",
    "        \n",
    "        for i in range(1, len(data)):\n",
    "            data[i] = [key] + data[i]\n",
    "            \n",
    "        label = data[0]\n",
    "        data.pop(0)\n",
    "        \n",
    "        query_data.extend(data)\n",
    "        \n",
    "    finally:\n",
    "        file.close()"
   ]
  },
  {
   "cell_type": "code",
   "execution_count": 9,
   "id": "6b15b780",
   "metadata": {},
   "outputs": [],
   "source": [
    "query_data.insert(0, label)"
   ]
  },
  {
   "cell_type": "code",
   "execution_count": 10,
   "id": "b239f73b",
   "metadata": {},
   "outputs": [],
   "source": [
    "data = [\" \".join(line) for line in query_data]"
   ]
  },
  {
   "cell_type": "code",
   "execution_count": 11,
   "id": "2b71bca8",
   "metadata": {},
   "outputs": [
    {
     "name": "stdout",
     "output_type": "stream",
     "text": [
      "Index(['Pivot', 'K', 'Time', 'Distance Count', 'Disk Access'], dtype='object')\n"
     ]
    }
   ],
   "source": [
    "df = pd.read_csv(io.StringIO('\\n'.join(data)), delim_whitespace=True)\n",
    "df.columns = [\"Pivot\", \"K\", \"Time\", \"Distance Count\", \"Disk Access\"]\n",
    "print(df.columns)"
   ]
  },
  {
   "cell_type": "code",
   "execution_count": 12,
   "id": "fb30ce07",
   "metadata": {},
   "outputs": [],
   "source": [
    "group_df = df.groupby([\"Pivot\", \"K\"])[[\"Distance Count\", \"Disk Access\"]].mean().reset_index()"
   ]
  },
  {
   "cell_type": "code",
   "execution_count": 5,
   "id": "5927f109",
   "metadata": {
    "scrolled": true
   },
   "outputs": [
    {
     "data": {
      "text/plain": [
       "Text(0.5, 1.0, 'Distance Count - K')"
      ]
     },
     "execution_count": 5,
     "metadata": {},
     "output_type": "execute_result"
    },
    {
     "data": {
      "image/png": "[encoded data removed]",
      "text/plain": [
       "<Figure size 432x288 with 1 Axes>"
      ]
     },
     "metadata": {},
     "output_type": "display_data"
    }
   ],
   "source": [
    "#Line plot\n",
    "group_df = readResults(\"../results/omnikdtree/\")\n",
    "sns.set_theme()\n",
    "p1 = sns.lineplot(data=group_df, x=\"K\", y=\"Distance Count\", hue=\"Pivot\")\n",
    "p1.legend(loc='center left', bbox_to_anchor=(1, 0.5))\n",
    "p1.set_xticks(range(5,101,5))\n",
    "p1.set_title(\"Distance Count - K\")"
   ]
  },
  {
   "cell_type": "code",
   "execution_count": null,
   "id": "0015672d",
   "metadata": {},
   "outputs": [],
   "source": []
  }
 ],
 "metadata": {
  "kernelspec": {
   "display_name": "Python 3",
   "language": "python",
   "name": "python3"
  },
  "language_info": {
   "codemirror_mode": {
    "name": "ipython",
    "version": 3
   },
   "file_extension": ".py",
   "mimetype": "text/x-python",
   "name": "python",
   "nbconvert_exporter": "python",
   "pygments_lexer": "ipython3",
   "version": "3.8.10"
  }
 },
 "nbformat": 4,
 "nbformat_minor": 5
}
